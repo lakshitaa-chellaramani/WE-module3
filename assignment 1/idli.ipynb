{
  "nbformat": 4,
  "nbformat_minor": 0,
  "metadata": {
    "colab": {
      "provenance": []
    },
    "kernelspec": {
      "name": "python3",
      "display_name": "Python 3"
    },
    "language_info": {
      "name": "python"
    }
  },
  "cells": [
    {
      "cell_type": "code",
      "execution_count": 9,
      "metadata": {
        "id": "n6uj0o2ghC22"
      },
      "outputs": [],
      "source": [
        "def distribute_idlis(idlis):\n",
        "    n = len(idlis)\n",
        "    total_idlis = sum(idlis)\n",
        "    if total_idlis % 2 != 0:\n",
        "        return -1\n",
        "    min_idlis = 0\n",
        "    for i in range(n):\n",
        "        if idlis[i] % 2 != 0:  # If the current person has an odd number of idlis\n",
        "            if i == n - 1:\n",
        "              return -1  # Cannot distribute if the last person has an odd number of idlis\n",
        "            min_idlis += 2  # Distribute 2 idlis to the current person and the next person\n",
        "            idlis[i] += 1\n",
        "            idlis[i+1] += 1\n",
        "    return min_idlis"
      ]
    },
    {
      "cell_type": "code",
      "source": [
        "idlis = [1, 3, 2, 4, 3]\n",
        "result = distribute_idlis(idlis)\n",
        "if result == -1:\n",
        "    print(\"It is not possible to distribute idlis.\")\n",
        "else:\n",
        "    print(\"Minimum number of idlis to distribute:\", result)"
      ],
      "metadata": {
        "colab": {
          "base_uri": "https://localhost:8080/"
        },
        "id": "IPerkTFvjAmi",
        "outputId": "8dae44db-e76a-4767-fcae-c4899f7710de"
      },
      "execution_count": 10,
      "outputs": [
        {
          "output_type": "stream",
          "name": "stdout",
          "text": [
            "It is not possible to distribute idlis.\n"
          ]
        }
      ]
    },
    {
      "cell_type": "code",
      "source": [
        "idlis = [2, 4, 6, 8, 10]\n",
        "result = distribute_idlis(idlis)\n",
        "if result == -1:\n",
        "    print(\"It is not possible to distribute idlis.\")\n",
        "else:\n",
        "    print(\"Minimum number of idlis to distribute:\", result)"
      ],
      "metadata": {
        "colab": {
          "base_uri": "https://localhost:8080/"
        },
        "id": "5xxlBob6j448",
        "outputId": "65fd7f0a-b95e-48c6-be1d-aaf700989c30"
      },
      "execution_count": 11,
      "outputs": [
        {
          "output_type": "stream",
          "name": "stdout",
          "text": [
            "Minimum number of idlis to distribute: 0\n"
          ]
        }
      ]
    },
    {
      "cell_type": "code",
      "source": [
        "idlis = [3, 2, 5, 4, 2]\n",
        "result = distribute_idlis(idlis)\n",
        "if result == -1:\n",
        "    print(\"It is not possible to distribute idlis.\")\n",
        "else:\n",
        "    print(\"Minimum number of idlis to distribute:\", result)"
      ],
      "metadata": {
        "colab": {
          "base_uri": "https://localhost:8080/"
        },
        "id": "RArSYWB3j-s0",
        "outputId": "cea26cae-0957-432e-ebec-01347a96ba40"
      },
      "execution_count": 13,
      "outputs": [
        {
          "output_type": "stream",
          "name": "stdout",
          "text": [
            "Minimum number of idlis to distribute: 4\n"
          ]
        }
      ]
    }
  ]
}