{
  "nbformat": 4,
  "nbformat_minor": 0,
  "metadata": {
    "colab": {
      "provenance": []
    },
    "kernelspec": {
      "name": "python3",
      "display_name": "Python 3"
    },
    "language_info": {
      "name": "python"
    }
  },
  "cells": [
    {
      "cell_type": "code",
      "execution_count": 3,
      "metadata": {
        "colab": {
          "base_uri": "https://localhost:8080/"
        },
        "id": "OayNC3-vshYj",
        "outputId": "5e2f7bb1-5a93-4123-9c12-018b54f766f2"
      },
      "outputs": [
        {
          "output_type": "stream",
          "name": "stdout",
          "text": [
            "The quick brown\n"
          ]
        }
      ],
      "source": [
        "import random\n",
        "\n",
        "def build_markov_chain(filename, chain_length):\n",
        "    with open(filename, 'r', encoding='utf-8') as file:\n",
        "        words = file.read().split()\n",
        "\n",
        "    markov_chain = {}\n",
        "    for i in range(len(words) - chain_length):\n",
        "        current_state = tuple(words[i:i + chain_length])\n",
        "        next_word = words[i + chain_length]\n",
        "        if current_state in markov_chain:\n",
        "            markov_chain[current_state].append(next_word)\n",
        "        else:\n",
        "            markov_chain[current_state] = [next_word]\n",
        "\n",
        "    return markov_chain\n",
        "\n",
        "def generate(filename, start_words, chain_length, num_generated):\n",
        "    markov_chain = build_markov_chain(filename, chain_length)\n",
        "\n",
        "    generated_text = list(start_words)\n",
        "    current_state = tuple(start_words)\n",
        "\n",
        "    for _ in range(num_generated):\n",
        "        if current_state in markov_chain:\n",
        "            next_word = random.choice(markov_chain[current_state])\n",
        "            generated_text.append(next_word)\n",
        "            current_state = tuple(generated_text[-chain_length:])\n",
        "        else:\n",
        "            break\n",
        "\n",
        "    return ' '.join(generated_text)\n",
        "\n",
        "# Example usage:\n",
        "filename = 'output-onlinefiletools.txt'  # Replace with the path to your text file\n",
        "start_words = ['The', 'quick', 'brown']  # Start words for text generation\n",
        "chain_length = 2  # Length of the Markov chain\n",
        "num_generated = 20  # Number of words to generate\n",
        "\n",
        "generated_text = generate(filename, start_words, chain_length, num_generated)\n",
        "print(generated_text)"
      ]
    }
  ]
}